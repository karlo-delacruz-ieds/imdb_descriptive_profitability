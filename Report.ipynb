{
 "cells": [
  {
   "cell_type": "markdown",
   "metadata": {},
   "source": [
    "# How to Not Flop An Expensive Movie?\n",
    "#### An Exploratory Data Analysis Approach on Expensive Movies  (>1M Budget) using R\n",
    "\n",
    "Data Source: [10K IMDB Dataset](https://www.kaggle.com/juzershakir/tmdb-movies-dataset)\n",
    "\n",
    "### Problem: Expensive movies are not always profitable\n",
    "\n",
    "<img src=\"is_profitable.png\" alt=\"is_profitable\" width=\"250\"/>\n",
    "\n",
    "<img src=\"point_cluster.png\" alt=\"point_cluster\" width=\"400\"/>\n",
    "\n",
    "- Almost half of the movies flopped and did not meet the 10% Return of Investment.\n",
    "\n",
    "- Profitbale movies will be compared to the movies that didn't sold well.\n",
    " \n",
    "#### Compare Profitable Movies based on the following characterstics:\n",
    "- **Popularity Score**\n",
    "- **Movie Runtimes**\n",
    "- **Vote Coint**\n",
    "- **Vote Average**\n",
    "- **Release Year**\n",
    "- **Release Month**\n",
    "- **Genre**\n",
    "\n",
    "\n",
    "<img src=\"popularity.png\" alt=\"popularity\" width=\"400\"/>\n",
    "<img src=\"runtime.png\" alt=\"runtime\" width=\"400\"/>\n",
    "<img src=\"vote_count.png\" alt=\"vote_count\" width=\"400\"/>\n",
    "<img src=\"vote_average.png\" alt=\"vote_average\" width=\"400\"/>\n",
    "<img src=\"release_year.png\" alt=\"release_year\" width=\"400\"/>\n",
    "<img src=\"release_month.png\" alt=\"release_month\" width=\"400\"/>\n",
    "<img src=\"genre_no.png\" alt=\"genre_no\" width=\"400\"/>\n",
    "<img src=\"genre_yes.png\" alt=\"genre_yes\" width=\"400\"/>"
   ]
  },
  {
   "cell_type": "markdown",
   "metadata": {},
   "source": []
  }
 ],
 "metadata": {
  "kernelspec": {
   "display_name": "R",
   "language": "R",
   "name": "ir"
  },
  "language_info": {
   "codemirror_mode": "r",
   "file_extension": ".r",
   "mimetype": "text/x-r-source",
   "name": "R",
   "pygments_lexer": "r",
   "version": "4.0.3"
  }
 },
 "nbformat": 4,
 "nbformat_minor": 4
}
